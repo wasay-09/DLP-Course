{
  "nbformat": 4,
  "nbformat_minor": 0,
  "metadata": {
    "colab": {
      "provenance": []
    },
    "kernelspec": {
      "name": "python3",
      "display_name": "Python 3"
    },
    "language_info": {
      "name": "python"
    }
  },
  "cells": [
    {
      "cell_type": "code",
      "execution_count": 47,
      "metadata": {
        "id": "O0SerRO61eAR"
      },
      "outputs": [],
      "source": [
        "#Importing libraries\n",
        "import numpy as np\n",
        "import pandas as pd\n",
        "import matplotlib.pyplot as plt\n",
        "import seaborn as sns\n",
        "from sklearn.model_selection import train_test_split\n",
        "from sklearn.metrics import accuracy_score\n",
        "from sklearn.linear_model import LinearRegression, LogisticRegression\n",
        "from sklearn.model_selection import cross_val_score, KFold\n",
        "from sklearn.metrics import mean_squared_error"
      ]
    },
    {
      "cell_type": "code",
      "source": [
        "# Load dataset\n",
        "data = pd.read_csv('/content/heart_disease_dataset_UCI - heart_disease_dataset_UCI.csv')\n",
        "X = data.drop(columns=['target'])  # Assuming 'target' is the column to predict\n",
        "y = data['target']"
      ],
      "metadata": {
        "id": "JtCzID3VZJY5"
      },
      "execution_count": 11,
      "outputs": []
    },
    {
      "cell_type": "code",
      "source": [
        "from sklearn.preprocessing import StandardScaler\n",
        "\n",
        "# Standardize features\n",
        "scaler = StandardScaler()\n",
        "X = scaler.fit_transform(X)"
      ],
      "metadata": {
        "id": "lNZfWnXTYUhv"
      },
      "execution_count": 12,
      "outputs": []
    },
    {
      "cell_type": "markdown",
      "source": [
        "#Task 01"
      ],
      "metadata": {
        "id": "8UkFrX1ifLho"
      }
    },
    {
      "cell_type": "code",
      "source": [
        "X_train, X_test, Y_train, Y_test = train_test_split(X, y, test_size = 0.2, random_state = 2)"
      ],
      "metadata": {
        "id": "-fRyFROlZlzk"
      },
      "execution_count": 15,
      "outputs": []
    },
    {
      "cell_type": "code",
      "source": [
        "linear_model = LinearRegression()\n",
        "linear_model.fit(X_train, Y_train)\n",
        "y_pred_train_linear = linear_model.predict(X_test)\n"
      ],
      "metadata": {
        "id": "Yjw4TQnmZ8kO"
      },
      "execution_count": 17,
      "outputs": []
    },
    {
      "cell_type": "code",
      "source": [
        "#sigmoid function\n",
        "def sigmoid(x):\n",
        "  return 1/(1+np.exp(-x))"
      ],
      "metadata": {
        "id": "tb-b27KNa7gH"
      },
      "execution_count": 19,
      "outputs": []
    },
    {
      "cell_type": "code",
      "source": [
        "y_pred_sigmoid = sigmoid(y_pred_train_linear)\n",
        "y_pred_binary = (y_pred_sigmoid >= 0.5).astype(int)\n",
        "\n",
        "accuracy_linear_sigmoid = accuracy_score(Y_test, y_pred_binary)\n",
        "print(f'Accuracy of Linear Regression with Sigmoid: {accuracy_linear_sigmoid:.4f}')\n"
      ],
      "metadata": {
        "colab": {
          "base_uri": "https://localhost:8080/"
        },
        "id": "Pj4SYIASbJ2t",
        "outputId": "3ac02840-805a-41de-a984-5eb0ce9ff8f2"
      },
      "execution_count": 24,
      "outputs": [
        {
          "output_type": "stream",
          "name": "stdout",
          "text": [
            "Accuracy of Linear Regression with Sigmoid: 0.5738\n"
          ]
        }
      ]
    },
    {
      "cell_type": "code",
      "source": [
        "LogisticModel = LogisticRegression(max_iter=500, solver='saga')\n",
        "LogisticModel.fit(X_train, Y_train)\n",
        "y_pred_test_logistic = LogisticModel.predict(X_test)\n",
        "\n",
        "\n",
        "accuracy_logistic = accuracy_score(Y_test, y_pred_test_logistic)\n",
        "print(f'Accuracy of Logistic Regression: {accuracy_logistic:.4f}')"
      ],
      "metadata": {
        "colab": {
          "base_uri": "https://localhost:8080/"
        },
        "id": "K0woyU5heKVX",
        "outputId": "6158bda7-7fce-4805-fd65-e0f11af7bec9"
      },
      "execution_count": 29,
      "outputs": [
        {
          "output_type": "stream",
          "name": "stdout",
          "text": [
            "Accuracy of Logistic Regression: 0.8689\n"
          ]
        }
      ]
    },
    {
      "cell_type": "code",
      "source": [
        "# Compare results\n",
        "print(f'Accuracy Difference: {accuracy_logistic - accuracy_linear_sigmoid:.4f}')"
      ],
      "metadata": {
        "colab": {
          "base_uri": "https://localhost:8080/"
        },
        "id": "y2zYeP2DfDTT",
        "outputId": "e828e1b2-f175-44dd-ab3d-92776ad6ed9e"
      },
      "execution_count": 30,
      "outputs": [
        {
          "output_type": "stream",
          "name": "stdout",
          "text": [
            "Accuracy Difference: 0.2951\n"
          ]
        }
      ]
    },
    {
      "cell_type": "markdown",
      "source": [
        "#Task 02"
      ],
      "metadata": {
        "id": "ZGsRfsM4fRKk"
      }
    },
    {
      "cell_type": "code",
      "source": [
        "def binary_cross_entropy(y, y_pred):\n",
        "  epsilon = 1e-15\n",
        "  y_pred = np.clip(y_pred, epsilon, 1-epsilon)\n",
        "  return -np.mean(y*np.log(y_pred) + (1-y)*np.log(1-y_pred))"
      ],
      "metadata": {
        "id": "bFN3AGIcfIBN"
      },
      "execution_count": 31,
      "outputs": []
    },
    {
      "cell_type": "code",
      "source": [
        "bce_loss_linear = binary_cross_entropy(Y_test, y_pred_sigmoid)\n",
        "print(f'Binary Cross-Entropy Loss (Linear Regression + Sigmoid): {bce_loss_linear:.4f}')\n",
        "\n",
        "bce_loss_logistic = binary_cross_entropy(Y_test, LogisticModel.predict_proba(X_test)[:, 1])\n",
        "print(f'Binary Cross-Entropy Loss (Logistic Regression): {bce_loss_logistic:.4f}')"
      ],
      "metadata": {
        "colab": {
          "base_uri": "https://localhost:8080/"
        },
        "id": "lATFeld-iq60",
        "outputId": "9c87917a-db92-4c7a-ad9f-f8af843d00c3"
      },
      "execution_count": 32,
      "outputs": [
        {
          "output_type": "stream",
          "name": "stdout",
          "text": [
            "Binary Cross-Entropy Loss (Linear Regression + Sigmoid): 0.6067\n",
            "Binary Cross-Entropy Loss (Logistic Regression): 0.2897\n"
          ]
        }
      ]
    },
    {
      "cell_type": "markdown",
      "source": [
        "#Task 03"
      ],
      "metadata": {
        "id": "AJrlgzXwjB-k"
      }
    },
    {
      "cell_type": "code",
      "source": [
        "pip install ucimlrepo"
      ],
      "metadata": {
        "colab": {
          "base_uri": "https://localhost:8080/"
        },
        "id": "7hNzKP78jDeF",
        "outputId": "11788141-54ab-47f7-d193-1e5638b60a32"
      },
      "execution_count": 33,
      "outputs": [
        {
          "output_type": "stream",
          "name": "stdout",
          "text": [
            "Collecting ucimlrepo\n",
            "  Downloading ucimlrepo-0.0.7-py3-none-any.whl.metadata (5.5 kB)\n",
            "Requirement already satisfied: pandas>=1.0.0 in /usr/local/lib/python3.11/dist-packages (from ucimlrepo) (2.2.2)\n",
            "Requirement already satisfied: certifi>=2020.12.5 in /usr/local/lib/python3.11/dist-packages (from ucimlrepo) (2024.12.14)\n",
            "Requirement already satisfied: numpy>=1.23.2 in /usr/local/lib/python3.11/dist-packages (from pandas>=1.0.0->ucimlrepo) (1.26.4)\n",
            "Requirement already satisfied: python-dateutil>=2.8.2 in /usr/local/lib/python3.11/dist-packages (from pandas>=1.0.0->ucimlrepo) (2.8.2)\n",
            "Requirement already satisfied: pytz>=2020.1 in /usr/local/lib/python3.11/dist-packages (from pandas>=1.0.0->ucimlrepo) (2024.2)\n",
            "Requirement already satisfied: tzdata>=2022.7 in /usr/local/lib/python3.11/dist-packages (from pandas>=1.0.0->ucimlrepo) (2025.1)\n",
            "Requirement already satisfied: six>=1.5 in /usr/local/lib/python3.11/dist-packages (from python-dateutil>=2.8.2->pandas>=1.0.0->ucimlrepo) (1.17.0)\n",
            "Downloading ucimlrepo-0.0.7-py3-none-any.whl (8.0 kB)\n",
            "Installing collected packages: ucimlrepo\n",
            "Successfully installed ucimlrepo-0.0.7\n"
          ]
        }
      ]
    },
    {
      "cell_type": "code",
      "source": [
        "from ucimlrepo import fetch_ucirepo\n",
        "\n",
        "# fetch dataset\n",
        "wine_quality = fetch_ucirepo(id=186)\n",
        "\n",
        "# data (as pandas dataframes)\n",
        "X = wine_quality.data.features\n",
        "y = wine_quality.data.targets\n",
        "\n"
      ],
      "metadata": {
        "id": "gJYVmQnZfQCE"
      },
      "execution_count": 38,
      "outputs": []
    },
    {
      "cell_type": "code",
      "source": [
        "# Standardize features\n",
        "scaler = StandardScaler()\n",
        "X = scaler.fit_transform(X)"
      ],
      "metadata": {
        "id": "Bbw992-gjntf"
      },
      "execution_count": 39,
      "outputs": []
    },
    {
      "cell_type": "code",
      "source": [
        "X_train, X_test, y_train, y_test = train_test_split(X, y, test_size=0.3, random_state=42)\n",
        "\n",
        "num_folds = 5\n",
        "kf = KFold(n_splits=num_folds, shuffle=True, random_state=42)\n",
        "model = LinearRegression()\n",
        "\n",
        "cv_scores = []\n",
        "\n",
        "\n",
        "for fold, (train_index, val_index) in enumerate(kf.split(X_train, y_train)):\n",
        "    X_train_fold, X_val_fold = X_train[train_index], X_train[val_index]\n",
        "    y_train_fold, y_val_fold = y_train.iloc[train_index], y_train.iloc[val_index]\n",
        "\n",
        "    model.fit(X_train_fold, y_train_fold)\n",
        "    y_val_pred_fold = model.predict(X_val_fold)\n",
        "\n",
        "    mse_fold = mean_squared_error(y_val_fold, y_val_pred_fold)\n",
        "    cv_scores.append(mse_fold)\n",
        "    print(f\"Fold {fold + 1}: Mean Squared Error on Validation Set: {mse_fold}\")\n",
        "\n",
        "print(f'\\nCross-validation scores: {cv_scores}')\n",
        "print(f'Average MSE: {np.mean(cv_scores):.4f}')\n",
        "\n",
        "\n",
        "y_test_pred = model.predict(X_test)\n",
        "mse_test = mean_squared_error(y_test, y_test_pred)\n",
        "print(f\"\\nMean Squared Error on Test Set: {mse_test}\")\n"
      ],
      "metadata": {
        "colab": {
          "base_uri": "https://localhost:8080/"
        },
        "id": "ulSrKprMjuC7",
        "outputId": "7f622f97-7546-46fe-b966-a2c5730f47d0"
      },
      "execution_count": 58,
      "outputs": [
        {
          "output_type": "stream",
          "name": "stdout",
          "text": [
            "Fold 1: Mean Squared Error on Validation Set: 0.5506450248567712\n",
            "Fold 2: Mean Squared Error on Validation Set: 0.6053534395174005\n",
            "Fold 3: Mean Squared Error on Validation Set: 0.5527447033503022\n",
            "Fold 4: Mean Squared Error on Validation Set: 0.5049041294861533\n",
            "Fold 5: Mean Squared Error on Validation Set: 0.523273406168213\n",
            "\n",
            "Cross-validation scores: [0.5506450248567712, 0.6053534395174005, 0.5527447033503022, 0.5049041294861533, 0.523273406168213]\n",
            "Average MSE: 0.5474\n",
            "\n",
            "Mean Squared Error on Test Set: 0.5336959214985676\n"
          ]
        }
      ]
    },
    {
      "cell_type": "markdown",
      "source": [
        "#Task 04"
      ],
      "metadata": {
        "id": "NMTxZvpwnK3Y"
      }
    },
    {
      "cell_type": "code",
      "source": [
        "def ForwardPropagation(X1, X2, w1, w2, b):\n",
        "    z = (w1 * X1) + (w2 * X2) + b\n",
        "    a = sigmoid(z)\n",
        "    return a"
      ],
      "metadata": {
        "id": "pGZblz37kK0X"
      },
      "execution_count": 59,
      "outputs": []
    },
    {
      "cell_type": "code",
      "source": [
        "def LossCalculation(a, y):\n",
        "    loss = - (y * np.log(a) + (1 - y) * np.log(1 - a))\n",
        "    return loss"
      ],
      "metadata": {
        "id": "mchadhOunPp4"
      },
      "execution_count": 60,
      "outputs": []
    },
    {
      "cell_type": "code",
      "source": [
        "def BackwardPropagation(X1, X2, a, y, w1, w2, b, learning_rate=0.1):\n",
        "    dz = a - y  # Gradient of loss w.r.t. activation\n",
        "    dw1 = dz * X1\n",
        "    dw2 = dz * X2\n",
        "    db = dz\n",
        "\n",
        "    # Update weights\n",
        "    w1 -= learning_rate * dw1\n",
        "    w2 -= learning_rate * dw2\n",
        "    b -= learning_rate * db\n",
        "\n",
        "    return w1, w2, b"
      ],
      "metadata": {
        "id": "AcsJjaWTnRw2"
      },
      "execution_count": 61,
      "outputs": []
    },
    {
      "cell_type": "code",
      "source": [
        "def MainLoop(X1, X2, y, w1, w2, b, loops=5):\n",
        "    for i in range(loops):\n",
        "        print(f'Iteration {i+1}:')\n",
        "        a = ForwardPropagation(X1, X2, w1, w2, b)\n",
        "        loss = LossCalculation(a, y)\n",
        "        print(f'Prediction: {a:.4f}, Loss: {loss:.4f}')\n",
        "        w1, w2, b = BackwardPropagation(X1, X2, a, y, w1, w2, b)\n",
        "        print(f'Updated Weights -> w1: {w1:.4f}, w2: {w2:.4f}, b: {b:.4f}\\n')"
      ],
      "metadata": {
        "id": "443qYH9wnXLB"
      },
      "execution_count": 62,
      "outputs": []
    },
    {
      "cell_type": "code",
      "source": [
        "# Initialize variables\n",
        "w1, w2, b = 0.5, 0.31, 0.09\n",
        "X1, X2, y = 5, 3, 1\n",
        "\n",
        "# Run training loop\n",
        "MainLoop(X1, X2, y, w1, w2, b)"
      ],
      "metadata": {
        "colab": {
          "base_uri": "https://localhost:8080/"
        },
        "id": "jflZQyoNnzSp",
        "outputId": "71d23d29-b59a-4a67-b4d3-bc52ced9d5a0"
      },
      "execution_count": 63,
      "outputs": [
        {
          "output_type": "stream",
          "name": "stdout",
          "text": [
            "Iteration 1:\n",
            "Prediction: 0.9713, Loss: 0.0292\n",
            "Updated Weights -> w1: 0.5144, w2: 0.3186, b: 0.0929\n",
            "\n",
            "Iteration 2:\n",
            "Prediction: 0.9739, Loss: 0.0264\n",
            "Updated Weights -> w1: 0.5274, w2: 0.3264, b: 0.0955\n",
            "\n",
            "Iteration 3:\n",
            "Prediction: 0.9762, Loss: 0.0241\n",
            "Updated Weights -> w1: 0.5393, w2: 0.3336, b: 0.0979\n",
            "\n",
            "Iteration 4:\n",
            "Prediction: 0.9780, Loss: 0.0222\n",
            "Updated Weights -> w1: 0.5503, w2: 0.3402, b: 0.1001\n",
            "\n",
            "Iteration 5:\n",
            "Prediction: 0.9796, Loss: 0.0206\n",
            "Updated Weights -> w1: 0.5605, w2: 0.3463, b: 0.1021\n",
            "\n"
          ]
        }
      ]
    },
    {
      "cell_type": "code",
      "source": [],
      "metadata": {
        "id": "vgD1mk0nn1WR"
      },
      "execution_count": null,
      "outputs": []
    }
  ]
}